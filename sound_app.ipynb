{
 "cells": [
  {
   "cell_type": "code",
   "execution_count": 2,
   "metadata": {},
   "outputs": [],
   "source": [
    "#importing neccessary libraries\n",
    "import os\n",
    "import pickle\n",
    "import tensorflow as tf\n",
    "from flask import Flask, render_template, request, redirect, url_for\n",
    "\n",
    "from glob import glob\n",
    "import librosa as lr\n",
    "import librosa.display\n",
    "import numpy as np\n",
    "from sklearn.preprocessing import LabelEncoder, StandardScaler"
   ]
  },
  {
   "cell_type": "code",
   "execution_count": 3,
   "metadata": {},
   "outputs": [],
   "source": [
    "app = Flask(__name__)"
   ]
  },
  {
   "cell_type": "code",
   "execution_count": 4,
   "metadata": {},
   "outputs": [
    {
     "name": "stderr",
     "output_type": "stream",
     "text": [
      "Using TensorFlow backend.\n"
     ]
    }
   ],
   "source": [
    "#loading model and encoder objects\n",
    "with open('./artefacts/finalized_model.pkl','rb') as model_file:\n",
    "     urban_model = pickle.load(model_file)\n",
    "\n",
    "with open('./artefacts/encoder.pkl','rb') as model_file:\n",
    "     label_en = pickle.load(model_file)"
   ]
  },
  {
   "cell_type": "code",
   "execution_count": 5,
   "metadata": {},
   "outputs": [],
   "source": [
    "#for keras -- to use default graph\n",
    "graph = tf.get_default_graph()"
   ]
  },
  {
   "cell_type": "code",
   "execution_count": 6,
   "metadata": {},
   "outputs": [],
   "source": [
    "#current location of the flask application\n",
    "APP_ROOT = os.path.dirname(os.path.realpath('__file__'))"
   ]
  },
  {
   "cell_type": "code",
   "execution_count": 7,
   "metadata": {},
   "outputs": [],
   "source": [
    "#extracting sound features of the input sound file\n",
    "from glob import glob\n",
    "import librosa as lr\n",
    "import librosa.display\n",
    "import numpy as np\n",
    "\n",
    "def preprocess(file):\n",
    "    x,s=librosa.load(file,res_type='kaiser_fast')\n",
    "    stft = np.abs(librosa.stft(x))\n",
    "    mfccs=np.mean(librosa.feature.mfcc(y=x,sr=s,n_mfcc=40).T,axis=0)\n",
    "    chroma = np.mean(librosa.feature.chroma_stft(S=stft, sr=s, n_chroma=40).T,axis=0)\n",
    "    mel = np.mean(librosa.feature.melspectrogram(x, sr=s, n_mels=40).T,axis=0)\n",
    "    Xtest=np.vstack((mfccs,chroma,mel)).T\n",
    "    X_2dt=np.reshape(Xtest,(1,Xtest.shape[0]*Xtest.shape[1]))\n",
    "    return X_2dt"
   ]
  },
  {
   "cell_type": "code",
   "execution_count": 8,
   "metadata": {},
   "outputs": [],
   "source": [
    "#index page function\n",
    "@app.route('/')\n",
    "def index():\n",
    "    return render_template('new1.html')"
   ]
  },
  {
   "cell_type": "code",
   "execution_count": 9,
   "metadata": {},
   "outputs": [],
   "source": [
    "#upload and predict function\n",
    "@app.route(\"/upload\", methods=['GET','POST'])\n",
    "def upload():\n",
    "    \n",
    "    global graph\n",
    "    with graph.as_default():\n",
    "        target = os.path.join(APP_ROOT, 'sounds/')\n",
    "        print(target)\n",
    "\n",
    "        if not os.path.isdir(target):\n",
    "            os.mkdir(target)\n",
    "\n",
    "        for file in request.files.getlist(\"file\"):\n",
    "            print(file)\n",
    "            filename = file.filename\n",
    "            destination = \"/\".join([target, filename])\n",
    "            print(destination)\n",
    "            file.save(destination)\n",
    "        \n",
    "            X_final = preprocess(destination)\n",
    "            print(label_en.inverse_transform(urban_model.predict_classes(X_final)))\n",
    "            sound_result = label_en.inverse_transform(urban_model.predict_classes(X_final))\n",
    "            \n",
    "            try:\n",
    "            \n",
    "                if sound_result == 'gun_shot':\n",
    "                    level = \"Stay indoors.Call for help\"\n",
    "                else:\n",
    "                    level = \"Relax! It's nothing to worry\"\n",
    "             \n",
    "            except:\n",
    "                level = \"\"\n",
    "\n",
    "    return render_template('complete1.html', Result=sound_result, Level=level)\n"
   ]
  },
  {
   "cell_type": "code",
   "execution_count": 10,
   "metadata": {},
   "outputs": [
    {
     "name": "stdout",
     "output_type": "stream",
     "text": [
      " * Serving Flask app \"__main__\" (lazy loading)\n",
      " * Environment: production\n",
      "   WARNING: Do not use the development server in a production environment.\n",
      "   Use a production WSGI server instead.\n",
      " * Debug mode: off\n"
     ]
    },
    {
     "name": "stderr",
     "output_type": "stream",
     "text": [
      " * Running on http://127.0.0.1:5000/ (Press CTRL+C to quit)\n",
      "127.0.0.1 - - [29/May/2019 13:15:33] \"\u001b[37mGET / HTTP/1.1\u001b[0m\" 200 -\n"
     ]
    },
    {
     "name": "stdout",
     "output_type": "stream",
     "text": [
      "C:\\Users\\Harini Pravin\\Downloads\\urban-sound-classification\\flaskapp\\sounds/\n",
      "<FileStorage: '5.wav' ('audio/wav')>\n",
      "C:\\Users\\Harini Pravin\\Downloads\\urban-sound-classification\\flaskapp\\sounds//5.wav\n"
     ]
    },
    {
     "name": "stderr",
     "output_type": "stream",
     "text": [
      "127.0.0.1 - - [29/May/2019 13:15:45] \"\u001b[37mPOST /upload HTTP/1.1\u001b[0m\" 200 -\n"
     ]
    },
    {
     "name": "stdout",
     "output_type": "stream",
     "text": [
      "['drilling']\n"
     ]
    },
    {
     "name": "stderr",
     "output_type": "stream",
     "text": [
      "127.0.0.1 - - [29/May/2019 15:02:32] \"\u001b[37mGET / HTTP/1.1\u001b[0m\" 200 -\n",
      "127.0.0.1 - - [29/May/2019 15:16:10] \"\u001b[37mGET / HTTP/1.1\u001b[0m\" 200 -\n"
     ]
    },
    {
     "name": "stdout",
     "output_type": "stream",
     "text": [
      "C:\\Users\\Harini Pravin\\Downloads\\urban-sound-classification\\flaskapp\\sounds/\n",
      "<FileStorage: '5.wav' ('audio/wav')>\n",
      "C:\\Users\\Harini Pravin\\Downloads\\urban-sound-classification\\flaskapp\\sounds//5.wav\n"
     ]
    },
    {
     "name": "stderr",
     "output_type": "stream",
     "text": [
      "127.0.0.1 - - [29/May/2019 15:16:53] \"\u001b[37mPOST /upload HTTP/1.1\u001b[0m\" 200 -\n"
     ]
    },
    {
     "name": "stdout",
     "output_type": "stream",
     "text": [
      "['drilling']\n"
     ]
    },
    {
     "name": "stderr",
     "output_type": "stream",
     "text": [
      "127.0.0.1 - - [29/May/2019 15:17:18] \"\u001b[37mGET /? HTTP/1.1\u001b[0m\" 200 -\n"
     ]
    },
    {
     "name": "stdout",
     "output_type": "stream",
     "text": [
      "C:\\Users\\Harini Pravin\\Downloads\\urban-sound-classification\\flaskapp\\sounds/\n",
      "<FileStorage: '19.wav' ('audio/wav')>\n",
      "C:\\Users\\Harini Pravin\\Downloads\\urban-sound-classification\\flaskapp\\sounds//19.wav\n"
     ]
    },
    {
     "name": "stderr",
     "output_type": "stream",
     "text": [
      "127.0.0.1 - - [29/May/2019 15:17:24] \"\u001b[37mPOST /upload HTTP/1.1\u001b[0m\" 200 -\n"
     ]
    },
    {
     "name": "stdout",
     "output_type": "stream",
     "text": [
      "['gun_shot']\n"
     ]
    }
   ],
   "source": [
    "#run app\n",
    "if __name__ == '__main__':\n",
    "    app.run()"
   ]
  },
  {
   "cell_type": "code",
   "execution_count": null,
   "metadata": {},
   "outputs": [],
   "source": []
  }
 ],
 "metadata": {
  "kernelspec": {
   "display_name": "Python 3",
   "language": "python",
   "name": "python3"
  },
  "language_info": {
   "codemirror_mode": {
    "name": "ipython",
    "version": 3
   },
   "file_extension": ".py",
   "mimetype": "text/x-python",
   "name": "python",
   "nbconvert_exporter": "python",
   "pygments_lexer": "ipython3",
   "version": "3.6.5"
  }
 },
 "nbformat": 4,
 "nbformat_minor": 2
}
